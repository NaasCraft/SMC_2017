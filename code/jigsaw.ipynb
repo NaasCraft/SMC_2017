{
 "cells": [
  {
   "cell_type": "markdown",
   "metadata": {},
   "source": [
    "# Jigsaw puzzle solving via SMC with Permutations\n",
    "\n",
    "[Article](https://cis.temple.edu/~latecki/Papers/IJCV2014.pdf)\n",
    "\n",
    "Implementation needs :\n",
    "\n",
    "1. Image handling :\n",
    "\n",
    "    a. Loading\n",
    "    \n",
    "    b. Resizing\n",
    "    \n",
    "    c. Splitting into puzzle pieces\n",
    "    \n",
    "    d. Showing reconstructed image with subgraph\n",
    "    \n",
    "2. Graph :\n",
    "\n",
    "    a. Define M mutex and deduce compatible candidates\n",
    "    \n",
    "    b. Extract subgraph _neighborhood_\n",
    "    \n",
    "    c. \n",
    "    \n",
    "3. Affinity matrix\n",
    "\n",
    "    a. Dissimilarity : $D(p_i, p_j, \\cdot)$ with $\\cdot$ being the direction to compare ($p_j$ to the left, right, top, or bottom of $p_i$)\n",
    "    \n",
    "    b. Compute $\\delta_i$ as the difference between the two lowest $D(p_i, p_j)$ values accross all $p_j$.\n",
    "    \n",
    "    c. Then $A(i,j) = exp(-\\frac{D(p_i, p_j, \\cdot)}{2\\delta^2})$ if $p_i$ and $p_j$ are adjacent, else $0$."
   ]
  }
 ],
 "metadata": {
  "anaconda-cloud": {},
  "kernelspec": {
   "display_name": "Python [conda root]",
   "language": "python",
   "name": "conda-root-py"
  },
  "language_info": {
   "codemirror_mode": {
    "name": "ipython",
    "version": 3
   },
   "file_extension": ".py",
   "mimetype": "text/x-python",
   "name": "python",
   "nbconvert_exporter": "python",
   "pygments_lexer": "ipython3",
   "version": "3.5.2"
  }
 },
 "nbformat": 4,
 "nbformat_minor": 1
}
